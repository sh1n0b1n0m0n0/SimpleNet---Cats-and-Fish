{
 "cells": [
  {
   "cell_type": "markdown",
   "metadata": {},
   "source": [
    "# Загружаем картинки рыбок и котиков из сети"
   ]
  },
  {
   "cell_type": "code",
   "execution_count": 3,
   "metadata": {},
   "outputs": [
    {
     "name": "stdout",
     "output_type": "stream",
     "text": [
      "Creating directory ./train/cat\n",
      "Creating directory ./train/fish\n",
      "Creating directory ./test/cat\n",
      "Creating directory ./test/fish\n",
      "Creating directory ./val/cat\n",
      "Creating directory ./val/fish\n",
      "Downloading 1393 images\n",
      "Error downloading http://farm1.static.flickr.com/1/1004525_cba96ba3c3.jpg\n",
      "Error downloading http://farm1.static.flickr.com/33/65048097_e5264bf855.jpg\n",
      "Error downloading http://farm3.static.flickr.com/2354/2102976081_61c8614be8.jpg\n",
      "Error downloading http://farm2.static.flickr.com/1390/709949156_5e4ac3f499.jpg\n",
      "Error downloading http://farm2.static.flickr.com/1221/1011749126_44a195db4c.jpg\n",
      "Error downloading http://farm1.static.flickr.com/173/416994740_6ada308baa.jpg\n",
      "Error downloading http://farm1.static.flickr.com/3/4193130_a058cdb81f.jpg\n",
      "Error downloading http://farm1.static.flickr.com/1/1004528_a111209743.jpg\n",
      "Error downloading http://farm1.static.flickr.com/223/522289072_13b4f92d39.jpg\n",
      "Error downloading http://farm1.static.flickr.com/28/100739452_5be2c11557.jpg\n",
      "Error downloading http://farm1.static.flickr.com/1/1004527_527c0c32ce.jpg\n",
      "Error downloading http://farm2.static.flickr.com/1424/643693002_6262c7c770.jpg\n",
      "Error downloading http://farm3.static.flickr.com/2254/2179694251_ef26b307a6.jpg\n",
      "Error downloading http://farm3.static.flickr.com/2271/1541882092_7df1c00498.jpg\n",
      "Error downloading http://farm2.static.flickr.com/1009/1011749668_fc48f28767.jpg\n",
      "Error downloading http://farm3.static.flickr.com/2165/1516104019_b530c585e4.jpg\n",
      "Error downloading http://farm3.static.flickr.com/2027/2103753994_715cd26e9c.jpg\n",
      "Error downloading http://farm1.static.flickr.com/139/359658792_76c6011a76.jpg\n",
      "Error downloading http://farm2.static.flickr.com/1409/1010205192_6ce1a37dc5.jpg\n",
      "Error downloading http://farm2.static.flickr.com/1204/529556475_2f8a2f8b23.jpg\n",
      "Error downloading http://farm1.static.flickr.com/9/75298993_347ab0387c.jpg\n",
      "Error downloading http://farm1.static.flickr.com/152/334132664_83e5b5af38.jpg\n",
      "Error downloading http://farm2.static.flickr.com/1183/928732762_eddd8d29af.jpg\n",
      "Error downloading http://farm1.static.flickr.com/136/320793638_f167ca1fc5.jpg\n",
      "Error downloading http://farm1.static.flickr.com/188/426029501_9ad83db536.jpg\n",
      "Error downloading http://farm1.static.flickr.com/100/298022772_916ace8b22.jpg\n",
      "Error downloading http://farm1.static.flickr.com/112/290162359_4d481ca788.jpg\n",
      "Error downloading http://farm1.static.flickr.com/200/522288612_1c9d01387b.jpg\n",
      "Error downloading http://farm2.static.flickr.com/1262/847517807_0216d39d30.jpg\n",
      "Error downloading http://farm2.static.flickr.com/1282/861774153_b4d1189962.jpg\n",
      "Error downloading http://farm1.static.flickr.com/163/356158507_ae17d2b83d.jpg\n",
      "Error downloading http://farm1.static.flickr.com/174/441338266_6ef76a092d.jpg\n",
      "Error downloading http://farm1.static.flickr.com/49/126757815_2b56006ae3.jpg\n",
      "Error downloading http://farm1.static.flickr.com/60/223217216_c9812a32b7.jpg\n",
      "Error downloading http://farm1.static.flickr.com/75/383039924_320a6cffcc.jpg\n",
      "Error downloading http://farm1.static.flickr.com/117/297949892_3532468343.jpg\n",
      "Error downloading http://farm1.static.flickr.com/49/112942284_3e525c90fd.jpg\n",
      "Error downloading http://farm3.static.flickr.com/2121/2198594925_0cdcb4b0bc.jpg\n",
      "Error downloading http://farm1.static.flickr.com/197/464579958_acedd32444.jpg\n",
      "Error downloading http://farm1.static.flickr.com/117/297949888_ff727f56d0.jpg\n",
      "Error downloading http://youdirtydog.info/index_files/image14201.jpg\n",
      "Error downloading http://jackmaryetc.com/Travel/US/Colorado/images/052cat.jpg\n",
      "Error downloading http://www.petrescuemiami.com/Cat%20Photos/ZierTigerCat.jpg\n",
      "Error downloading http://www.arar93.dsl.pipex.com/mds975/Images/c_ronald_ginger_cat_01.jpg\n",
      "Error downloading http://www.unknownhighway.com/images/uploads/littletigercat-12-20-07-small.jpg\n",
      "Error downloading http://www.whitelightening.net/BuzzellTest/Creative/Tripp-TigerCat.jpg\n",
      "Error downloading http://www.for-cats-only.com/images/mySubms/reviewFurnitureTigerBed.jpg\n",
      "Error downloading http://www.safepets.co.uk/tiger3.JPG\n",
      "Error downloading http://news.nationalgeographic.com/news/2007/03/images/070321-toygers-photos_big.jpg\n",
      "Error downloading http://www.anyday.se/images/20070101220757_cat1.jpg\n",
      "Error downloading http://www.wallpaperweb.org/wallpaper/animals/thumbnail/Curious_Cat_Siberian_Tiger.jpg\n",
      "Error downloading http://images.art.com/images/products/large/10298000/10298902.jpg\n",
      "Error downloading http://www1.istockphoto.com/file_thumbview_approve/2754709/2/istockphoto_2754709_white_tiger.jpg\n",
      "Error downloading http://www.prestigiouspaw.com/tiger_op_450x600.jpg\n",
      "Error downloading http://www.stockphotospot.com/tiger-rubbing-against-a-tree-stock-photo-a66573.jpg\n",
      "Error downloading http://www.spfdbus.com/JessZoo/tiger/auroara/thumbnails/tiger-aroara-017.jpg\n",
      "Error downloading http://farm2.static.flickr.com/1132/1471994811_164d5a3f11.jpg\n",
      "Error downloading http://farm1.static.flickr.com/205/476956230_b3900bd668.jpg\n",
      "Error downloading http://farm1.static.flickr.com/132/386738725_f05b43aa50.jpg\n",
      "Error downloading http://farm1.static.flickr.com/230/465514643_ed172b3d7f.jpg\n",
      "Error downloading http://farm1.static.flickr.com/40/113565692_f3d86014e2.jpg\n",
      "Error downloading http://static.flickr.com/6/5733476_9266d6999b.jpg\n",
      "Error downloading http://static.flickr.com/74/223070551_857dc3264f.jpg\n",
      "Error downloading http://static.flickr.com/53/136562493_d7e2b71d6f.jpg\n",
      "Error downloading http://farm1.static.flickr.com/229/498439925_56105ec829.jpg\n",
      "Error downloading http://farm1.static.flickr.com/4/5733484_a458450d64.jpg\n",
      "Error downloading http://farm2.static.flickr.com/1307/1171972141_6975842eae.jpg\n",
      "Error downloading http://farm1.static.flickr.com/25/40489215_3c98e1b7de.jpg\n",
      "Error downloading http://farm1.static.flickr.com/163/345925901_d5865b2585.jpg\n",
      "Error downloading http://farm1.static.flickr.com/14/16135136_262b1e984d.jpg\n",
      "Error downloading http://farm1.static.flickr.com/195/464580812_9a84a39d97.jpg\n",
      "Error downloading http://farm3.static.flickr.com/2247/2087049628_381e2034e1.jpg\n",
      "Error downloading http://farm3.static.flickr.com/2133/2233999520_1c493de45c.jpg\n",
      "Error downloading http://farm1.static.flickr.com/168/479775027_fbc2e23970.jpg\n",
      "Error downloading http://farm3.static.flickr.com/2409/2115133686_808ce0a5a5.jpg\n",
      "Error downloading http://farm1.static.flickr.com/220/498398268_aae3009df3.jpg\n",
      "Error downloading http://farm3.static.flickr.com/2023/2219782724_282abe79b7.jpg\n",
      "Error downloading http://farm3.static.flickr.com/2128/2102976045_289d3c9471.jpg\n",
      "Error downloading http://farm3.static.flickr.com/2083/2206140101_d64a7e3767.jpg\n",
      "Error downloading http://farm2.static.flickr.com/1437/927881425_8084c41b41.jpg\n",
      "Error downloading http://farm1.static.flickr.com/25/39351075_8ab1552d3e.jpg\n",
      "Error downloading http://farm3.static.flickr.com/2038/2157560924_19876ea4a2.jpg\n",
      "Error downloading http://farm3.static.flickr.com/2403/2151918390_d8c2dc0a62.jpg\n",
      "Error downloading http://farm1.static.flickr.com/27/57455726_8ccf14753f.jpg\n",
      "Error downloading http://farm1.static.flickr.com/185/426029368_3a9612f006.jpg\n",
      "Error downloading http://farm2.static.flickr.com/1133/1141687717_890fe14d8e.jpg\n",
      "Error downloading http://farm1.static.flickr.com/62/204035942_de0d323af5.jpg\n",
      "Error downloading http://farm2.static.flickr.com/1172/1323667952_a7a74975c4.jpg\n",
      "Error downloading http://farm1.static.flickr.com/42/84450056_bb5974a64f.jpg\n",
      "Error downloading http://farm4.static.flickr.com/3001/2776498771_20527f258b.jpg\n",
      "Error downloading http://farm4.static.flickr.com/3159/2824589595_07ee2443a3.jpg\n",
      "Error downloading http://farm4.static.flickr.com/3206/2970698030_1021311f52.jpg\n",
      "Error downloading http://farm2.static.flickr.com/1125/1348034256_cc50f5b446.jpg\n",
      "Error downloading http://farm3.static.flickr.com/2416/1833444691_dc3d1017db.jpg\n",
      "Error downloading http://farm3.static.flickr.com/2077/1834276056_4e86bacfe3.jpg\n",
      "Error downloading http://farm2.static.flickr.com/1231/1455910975_07315bf34e.jpg\n",
      "Error downloading http://farm2.static.flickr.com/1424/747119762_615603a9a0.jpg\n",
      "Error downloading http://farm1.static.flickr.com/79/233477721_0126cc0331.jpg\n",
      "Error downloading http://farm3.static.flickr.com/2056/2021607548_e0835d3552.jpg\n",
      "Error downloading http://farm2.static.flickr.com/1312/1287462891_f1a3e27b50.jpg\n",
      "Error downloading http://farm2.static.flickr.com/1322/1348044264_3e0ed6611e.jpg\n"
     ]
    },
    {
     "name": "stdout",
     "output_type": "stream",
     "text": [
      "Error downloading http://farm4.static.flickr.com/3183/2791133165_5df1d47be5.jpg\n",
      "Error downloading http://farm4.static.flickr.com/3088/2776496087_1973f8dced.jpg\n",
      "Error downloading http://farm4.static.flickr.com/3224/2777354896_176a518b8c.jpg\n",
      "Error downloading http://farm2.static.flickr.com/1103/840200833_be72b99848.jpg\n",
      "Error downloading http://farm2.static.flickr.com/1226/1140675688_2498ebdcc7.jpg\n",
      "Error downloading http://farm4.static.flickr.com/3005/3007583030_bd590c07e7.jpg\n",
      "Error downloading http://farm4.static.flickr.com/3218/2734977928_8d16b48c0a.jpg\n",
      "Error downloading http://farm4.static.flickr.com/3218/2776494507_7e4cd3a67e.jpg\n",
      "Error downloading http://farm2.static.flickr.com/1391/1087447360_c6037a47f5.jpg\n",
      "Error downloading http://farm4.static.flickr.com/3124/2297032796_b5eb52b860.jpg\n",
      "Error downloading http://farm4.static.flickr.com/3183/2806314103_c6a27c6a53.jpg\n",
      "Error downloading http://farm3.static.flickr.com/2356/2076921635_8146b3766d.jpg\n",
      "Error downloading http://farm4.static.flickr.com/3197/2897344494_fa0a244b55.jpg\n",
      "Error downloading http://farm4.static.flickr.com/3136/2791982160_14b08a4e3c.jpg\n",
      "Error downloading http://farm1.static.flickr.com/108/281045869_67c3f5355e.jpg\n",
      "Error downloading http://farm1.static.flickr.com/191/516600404_a300ca8625.jpg\n",
      "Error downloading http://farm2.static.flickr.com/1409/817922169_08b4a5f740.jpg\n",
      "Error downloading http://farm4.static.flickr.com/3161/2886597440_5b3a936f6d.jpg\n",
      "Error downloading http://farm2.static.flickr.com/1308/727088757_639eb2ccdb.jpg\n",
      "Error downloading http://farm1.static.flickr.com/97/248254722_719a163665.jpg\n",
      "Error downloading http://farm4.static.flickr.com/3202/2807167664_7f0c5891f6.jpg\n",
      "Error downloading http://farm2.static.flickr.com/1030/1348098964_4b8c2450e9.jpg\n",
      "Error downloading http://farm4.static.flickr.com/3227/2667317126_10ee1f1a17.jpg\n",
      "Error downloading http://www.salmonherder.com/silver031.jpg\n",
      "Error downloading http://www.idohuntak.com/images/VInhCoho.jpg\n",
      "Error downloading http://www.fishinginternational.com/location/canastamp/stamp3.gif\n",
      "Error downloading http://www.widespreadfishing.com/images_gallery/04%20silver%20salmon%20small.jpg\n",
      "Error downloading http://www.kenairiverhideaway.com/pix1/pat3.jpg\n",
      "Error downloading http://www.pec.on.ca/fish/trophycoho.jpg\n",
      "Error downloading http://www.alaskarivertrips.com/images/443.guest%20chrome%20silver%20w%20fly.jpg\n",
      "Error downloading http://www.highadventureair.com/IMG_4037273.jpg\n",
      "Error downloading http://photos.oregonlive.com/photogallery/f43aa33cdff2bbd5e0173ab7a9460f04.jpg\n",
      "Error downloading http://www.greatriverfishing.com/images/Small/PicCoho6_small.jpg\n",
      "Error downloading http://www.chrisbrooks.org/content/binary/20040808JacobSalmon.jpg\n",
      "Error downloading http://www.greatriverfishing.com/images/Small/PicCoho14_small.jpg\n",
      "Error downloading http://image59.webshots.com/459/3/97/24/2362397240073428963uOVsAS_ph.jpg\n",
      "Error downloading http://www.atmos.washington.edu/~mantua/images/silver2.gif\n",
      "Error downloading http://outboundalaskacharters.com/images/fish/silver.jpg\n",
      "Error downloading http://www.fish4salmon.com/pictures/silvers/Ultralight_salmon_fishing_small.jpg\n",
      "Error downloading http://sportfishingketchikan.com/Sportfish%20Pics/Picture16.jpg\n",
      "Error downloading http://jakejordan.com/images/480_Seegraves_nice_silver.jpg\n",
      "Error downloading http://www.charliemoore.com/images/5-pound-bass/dennis.jpg\n",
      "Error downloading http://www.anchorriverlodge.com/images/dad_king.jpg\n",
      "Error downloading http://www.kodiakwilderness.com/pageImages/34-8image.jpg\n",
      "Error downloading http://www.akfishermanschoice.com/images/photos19_med.jpg\n",
      "Error downloading http://www.salmoneye.net/siteimages/chinook_salmon.jpg\n",
      "Error downloading http://www.boknowsfishing.com/images/Silver1.jpg\n",
      "Error downloading http://www.alaskaoffshoreadventures.com/pics/kingkt.jpg\n",
      "Error downloading http://www.eacmarin.org/images/home/coho.jpg\n",
      "Error downloading http://www.anchorage.net/data/mem_images/2662.jpg\n",
      "Error downloading http://www.rodgunresources.com/alaskawildernessfishing/images/alaskan-salmon.jpg\n",
      "Error downloading http://www.akfishermanschoice.com/images/fishing_pics/silversalmonpic2.jpg\n",
      "Error downloading http://www.fishorhunt.com/gallery/silver_salmon_father_son.jpg\n",
      "Error downloading http://alaska.pinnacle-travel.org/images/big_king.jpg\n",
      "Error downloading http://farm3.static.flickr.com/2288/1956494336_5591fa37da.jpg\n",
      "Error downloading http://farm3.static.flickr.com/2386/1879139277_71ea573139.jpg\n",
      "Error downloading http://farm3.static.flickr.com/2080/2483223708_dd90747f10.jpg\n",
      "Error downloading http://farm3.static.flickr.com/2084/1879253211_7ea061692c.jpg\n",
      "Error downloading http://static.flickr.com/86/256085367_30d8e98fa4.jpg\n",
      "Error downloading http://static.flickr.com/1417/747122396_3de7f87df3.jpg\n",
      "Error downloading http://www.aegmedia.com/blog/tbd/uploaded_images/IMG_0673-787866.JPG\n",
      "Error downloading http://www.plu.edu/~christdr/Krivers%20Guide%20Service/Silver%20Salmon_files/Dscf0018_018.jpg\n",
      "Error downloading http://www.foxbaylodge.com/images/2004/andrew-king-salmon.jpg\n",
      "Error downloading http://www.dfg.ca.gov/fish/images/FishOnly/CohoSalmon_ByErnest%20Keeley.jpg\n",
      "Error downloading http://farm3.static.flickr.com/2410/2306403424_76da5bb38a.jpg\n",
      "Error downloading http://farm1.static.flickr.com/94/233611459_cc673f6203.jpg\n",
      "Error downloading http://farm4.static.flickr.com/3238/2777353898_99db69973e.jpg\n",
      "Error downloading http://farm4.static.flickr.com/3245/2806316749_a85a2e1d0f.jpg\n",
      "Error downloading http://farm2.static.flickr.com/1264/1278651880_44fe8f9b70.jpg\n",
      "Error downloading http://farm1.static.flickr.com/91/260564886_6c66708343.jpg\n",
      "Error downloading http://farm1.static.flickr.com/46/154165958_2428872100.jpg\n",
      "Error downloading http://farm3.static.flickr.com/2151/2077711662_c9da691b0a.jpg\n",
      "Error downloading http://farm2.static.flickr.com/1251/1084292263_542314f2ed.jpg\n",
      "Error downloading http://farm4.static.flickr.com/3088/2294965469_d200313929.jpg\n",
      "Error downloading http://farm4.static.flickr.com/3155/2897344310_0cb98bf481.jpg\n",
      "Error downloading http://farm4.static.flickr.com/3219/3006747829_8658331ecd.jpg\n",
      "Error downloading http://farm1.static.flickr.com/254/521168219_ad61ac2925.jpg\n",
      "Error downloading http://farm1.static.flickr.com/32/50021271_c261cd4746.jpg\n",
      "Error downloading http://farm3.static.flickr.com/2341/2021603270_2e53566a23.jpg\n",
      "Error downloading http://farm4.static.flickr.com/3073/2791982836_fefc141d11.jpg\n",
      "Error downloading http://farm2.static.flickr.com/1115/1388069914_0ecc61170d.jpg\n",
      "Error downloading http://farm2.static.flickr.com/1302/1242460238_57b66f8072.jpg\n",
      "Error downloading http://farm2.static.flickr.com/1273/1183434487_0de54007df.jpg\n",
      "Error downloading http://farm2.static.flickr.com/1153/1155345869_3f36e2785b.jpg\n",
      "Error downloading http://farm2.static.flickr.com/1082/1010685601_0b99c42459.jpg\n",
      "Error downloading http://farm4.static.flickr.com/3130/2791131243_7b257bc08b.jpg\n",
      "Error downloading http://farm2.static.flickr.com/1124/917843339_6485bec882.jpg\n",
      "Error downloading http://farm4.static.flickr.com/3265/2791983612_b1ef77c740.jpg\n",
      "Error downloading http://farm2.static.flickr.com/1104/1061636927_55150f759c.jpg\n",
      "Error downloading http://farm2.static.flickr.com/1182/1155341513_68ffbeb5f5.jpg\n",
      "Error downloading http://farm4.static.flickr.com/3096/2638045329_4d8166932d.jpg\n",
      "Error downloading http://farm4.static.flickr.com/3205/2919672812_a2deec6048.jpg\n",
      "Error downloading http://farm3.static.flickr.com/2016/2021623960_46399ec0ef.jpg\n",
      "Error downloading http://farm2.static.flickr.com/1020/1225404080_8048600a94.jpg\n",
      "Error downloading http://farm4.static.flickr.com/3257/2791981278_00389ecea0.jpg\n",
      "Error downloading http://farm1.static.flickr.com/45/171147851_0fa3cc8321.jpg\n",
      "Error downloading http://farm2.static.flickr.com/1117/1347194721_589b1b7c93.jpg\n",
      "Error downloading http://farm2.static.flickr.com/1280/1140037425_fc25db4d3e.jpg\n",
      "Error downloading http://www.fishingoregon.net/images/PNGSsalmon07.jpg\n",
      "Error downloading http://www.self-catering-breaks.com/images/property_pictures/7654_1163794241.jpg\n",
      "Error downloading http://legendlodge.com/images/pics/rainbow1.jpg\n",
      "Error downloading http://www.aktroutfitters.com/images/silvers.jpg\n",
      "Error downloading http://www.salmonsafe.org/images/coho.jpg\n",
      "Error downloading http://spotted.charleston.net/images/12/photos/2007/11/15/gallery/3147.jpg\n"
     ]
    },
    {
     "name": "stdout",
     "output_type": "stream",
     "text": [
      "Error downloading http://michiganstreamside.com/upcoming2.jpg\n",
      "Error downloading http://www.cordovarose.com/images/silversalmon.jpg\n",
      "Error downloading http://www.driftingonthefly.com/images/rainbows/sctrnbw06_07.jpg\n",
      "Error downloading http://www.tyeeatercharters.com/images/coho_salmon.jpg\n",
      "Error downloading http://www.skeetchestn.ca/Natural%20Resources%20Website/SARAImages/CSalmon.jpg\n",
      "Error downloading http://www2.kpr.edu.on.ca/cdciw/biomes/king1.jpg\n",
      "Error downloading http://www.mattfender.net/alaska/dave%20with%20two%20silvers.jpg\n",
      "Error downloading http://bonshellfishing.com/G.%20L.%20Salmon%20&%20Trout%20Description%20Pg%202007/Coho%20Salmon%20%20IMG_0970.JPG\n",
      "Error downloading http://www.orcalodge.com/13.jpg\n",
      "Error downloading http://www.alaskanfishingadventures.com/PB280171.JPG\n",
      "Error downloading http://img5.travelblog.org/Photos/45963/199454/t/1491860-Big-silver-0.jpg\n",
      "Error downloading http://www.zenwaiterwest.com/photos/july22-30%202005%20Salmon%20Fishing%20%20Ch%202/coho%20spring%20ling%20cod%20salmon%20toquart%20bay%20bc.jpg\n",
      "Error downloading http://www.gosalmonfishing.com/gsfgallery/slides/ryans%20big%20coho.jpg\n",
      "Error downloading http://profish-n-sea.com/images/blond_w_silver_small.jpg\n",
      "Error downloading http://jigsandreels.net/images/headers/header_1.jpg\n",
      "Error downloading http://alagnakriverlodge.com/images/pics03/mcgrewsilvers.jpg\n",
      "Error downloading http://www.portlandgeneral.com/community_and_env/hydropower_and_fish/images/coho_salmon.jpg\n",
      "Error downloading http://www.bcsturgeon.com/images/salmon-4.jpg\n",
      "Error downloading http://www.greatriverfishing.com/images/PicsPage/PicCoho10.jpg\n",
      "Error downloading http://lh4.ggpht.com/_nxVO3CjsCCc/SKIFZDgR7-I/AAAAAAAAAUQ/Ce-4FimudFo/Alaska_08+(16).jpg\n",
      "Error downloading http://www.northwestflyfisherman.com/images/markchinook.jpg\n",
      "Error downloading http://www.landsendlodge.com/images/stories/Gallery2/Lots-of-silver-salmon.jpg\n",
      "Error downloading http://www.profishingguide.com/Images/September_Nine_Big_COHO.jpg\n",
      "Error downloading http://www.moosecreek.com/ni.JPG\n",
      "Error downloading http://image18.webshots.com/18/1/88/55/192318855dWPDtw_fs.jpg\n",
      "Error downloading http://www.alaskanfishing.com/photos/silversalmon226at180.jpg\n",
      "Error downloading http://www.alaskagoodtimecharters.com/sys/docs/38.jpg\n",
      "Error downloading http://www.anglersalibi.com/200308silver.jpg\n",
      "Error downloading http://i.pbase.com/u39/statu/upload/32462078.bearandlunch.jpg\n",
      "Error downloading http://www.deltanewsweb.com/archives/images/20021016_coho.jpg\n",
      "Error downloading http://www.trophycatchcharters.com/i/fish%20pictures/billsilver2.jpg\n",
      "Error downloading http://www.nahabayoutdooradventures.com/bryan_pradines_silver.jpg\n",
      "Error downloading http://alaskancharters.com/pics/Image22.jpg\n",
      "Error downloading http://www.massethouse.com/picture_library/swfishing_gallery/Coho%20Fly_std.jpg\n",
      "Error downloading http://legendlodge.com/images/pics/DSC00663.jpg\n",
      "Error downloading http://www.alaskaflyfish.net/bwhiting2.jpg\n",
      "Error downloading http://www.thefishhouse.net/images/salmon_page.jpg\n",
      "Error downloading http://www.alaskafishing.ws/0a16c110.jpg\n",
      "Error downloading http://www.southbeachfishmarket.com/images/salmonsf.jpg\n",
      "Error downloading http://raincoastresearch.org/graphics/images/coho-ad-w250.jpg\n",
      "Error downloading http://www.paintercreeklodge.com/pcl10.jpg\n",
      "Error downloading http://www.alaskatrophyadventures.com/billchar-1wbrdy.jpg\n",
      "Error downloading http://anglercharters.net/PAGES/BOATBASIN2005/17.9silverfboshear20oct580x.jpg\n",
      "Error downloading http://fishstjoseph.com/images/photos/wierenga.JPG\n",
      "Error downloading http://egov.oregon.gov/OISC/images/191/w_salmo_salar1.jpg\n",
      "Error downloading http://www.babyboomersguide.co.nz/site/babyboomers/images/trout_fishing/USA/Silver_King_salmon_1.jpg\n",
      "Error downloading http://www.mtaonline.net/%7ebrown/yoksilver.jpg\n",
      "Error downloading http://akangler.com/silver3.jpg\n",
      "Error downloading http://www.fishinginternational.com/location/alaskarluk/patsy.gif\n",
      "Error downloading http://www.rippingalesfishing.com/images/coho&spring.jpg\n",
      "Error downloading http://www.strikesilver.com/conde.jpg\n",
      "Error downloading http://image20.webshots.com/21/1/81/99/192318199YhVkyf_fs.jpg\n",
      "Error downloading http://www.greatriverfishing.com/images/Small/PicCoho3_small.jpg\n",
      "Error downloading http://www.pittriver.com/images/text-photo-coho1.jpg\n",
      "Error downloading http://www.public.asu.edu/~bvogt/mtn/alaska/21/d_with_silver_eyak.jpg\n",
      "Error downloading http://www.mtaonline.net/%7ebrown/silveranchor.jpg\n",
      "Error downloading http://www.sewardak.org/images/misc/page_photos/Anna%20caught%20a%20silver.jpg\n",
      "Error downloading http://www.pnwsalmoncenter.org/images/coho_spawning2.jpg\n",
      "Error downloading http://fishthesalmonriver.com/albums/rome_taxidermy/DanCarleCoho.thumb.jpg\n",
      "Error downloading http://www.lenssportfishing-bc.com/images/home2.jpg\n",
      "Error downloading http://www.alaskariveradventures.com/images/king%20salmon%20by%20stephanie%20holland.jpg\n",
      "Error downloading http://www.bearsdenlodge.com/images/salmonjeff.jpg\n",
      "Error downloading http://www.grayling-on-a-fly.com/images/man-salmon.jpg\n",
      "Error downloading http://akoffshoreoutfitters.com/gallery/images/SilverSalmon.jpg\n",
      "Error downloading http://www.bristolbayadventures.com/images/silver_salmon_fishing_2.jpg\n",
      "Error downloading http://alaskanadventures.biz/images/fishboat251.jpg\n",
      "Error downloading http://www.gwinslodge.com/KENPHIL-SILVER.jpg\n",
      "Error downloading http://www.guidebc.com/images/img0085_300.jpg\n",
      "Error downloading http://www.zoo.utoronto.ca/manuesteve/cohodigging1.jpg\n",
      "Error downloading http://www.flycastingguide.com/images/3478912/images/Chris%20with%20Coho%20Salmon.jpg\n",
      "Error downloading http://www.skeetchestn.ca/Natural%20Resources%20Website/SARAImages/CSalmon2.jpg\n",
      "Error downloading http://www.alaskan-fishing-lodges.com/anasilver.jpg\n",
      "Error downloading http://www.fish-hawk.net/gallery/albums/userpics/10498/normal_PL%20Coho%20May%2029th.jpg\n",
      "Error downloading http://wildsalmoncenter.org/i/salmon/coho_spawn.jpg\n",
      "Error downloading http://www.acefishn.com/albums/Silver-Salmon/2003_Silver.sized.jpg\n"
     ]
    },
    {
     "ename": "SystemExit",
     "evalue": "0",
     "output_type": "error",
     "traceback": [
      "An exception has occurred, use %tb to see the full traceback.\n",
      "\u001b[1;31mSystemExit\u001b[0m\u001b[1;31m:\u001b[0m 0\n"
     ]
    },
    {
     "name": "stderr",
     "output_type": "stream",
     "text": [
      "C:\\Users\\kamikaze666\\Anaconda3\\envs\\Python 3.7\\lib\\site-packages\\IPython\\core\\interactiveshell.py:3425: UserWarning: To exit: use 'exit', 'quit', or Ctrl-D.\n",
      "  warn(\"To exit: use 'exit', 'quit', or Ctrl-D.\", stacklevel=1)\n"
     ]
    }
   ],
   "source": [
    "import os\n",
    "import sys\n",
    "import urllib3\n",
    "from urllib.parse import urlparse\n",
    "import pandas as pd\n",
    "import itertools\n",
    "import shutil\n",
    "\n",
    "from urllib3.util import Retry\n",
    "\n",
    "urllib3.disable_warnings(urllib3.exceptions.InsecureRequestWarning)\n",
    "\n",
    "classes = [\"cat\", \"fish\"]\n",
    "set_types = [\"train\", \"test\", \"val\"]\n",
    "\n",
    "def download_image(url, klass, data_type):\n",
    "    basename = os.path.basename(urlparse(url).path)\n",
    "    filename = \"{}/{}/{}\".format(data_type, klass, basename)\n",
    "    if not os.path.exists(filename):\n",
    "        try: \n",
    "            http = urllib3.PoolManager(retries=Retry(connect=1, read=1, redirect=2))\n",
    "            with http.request(\"GET\", url, preload_content=False) as resp, open(\n",
    "                filename, \"wb\"\n",
    "            ) as out_file:\n",
    "                if resp.status == 200:\n",
    "                    shutil.copyfileobj(resp, out_file)\n",
    "                else:\n",
    "                    print(\"Error downloading {}\".format(url))\n",
    "            resp.release_conn()\n",
    "        except:\n",
    "            print(\"Error downloading {}\".format(url))\n",
    "\n",
    "\n",
    "if __name__ == \"__main__\":\n",
    "    if not os.path.exists(\"images.csv\"):\n",
    "        print(\"Error: can't find images.csv!\")\n",
    "        sys.exit(0)\n",
    "\n",
    "    # get args and create output directory\n",
    "    imagesDF = pd.read_csv(\"images.csv\")\n",
    "\n",
    "    for set_type, klass in list(itertools.product(set_types, classes)):\n",
    "        path = \"./{}/{}\".format(set_type, klass)\n",
    "        if not os.path.exists(path):\n",
    "            print(\"Creating directory {}\".format(path))\n",
    "            os.makedirs(path)\n",
    "\n",
    "    print(\"Downloading {} images\".format(len(imagesDF)))\n",
    "\n",
    "    result = [\n",
    "        download_image(url, klass, data_type)\n",
    "        for url, klass, data_type in zip(\n",
    "            imagesDF[\"url\"], imagesDF[\"class\"], imagesDF[\"type\"]\n",
    "        )\n",
    "    ]\n",
    "    sys.exit(0)\n"
   ]
  },
  {
   "cell_type": "markdown",
   "metadata": {},
   "source": [
    "# Инициализируем сеть"
   ]
  },
  {
   "cell_type": "code",
   "execution_count": 1,
   "metadata": {},
   "outputs": [],
   "source": [
    "import torch\n",
    "import torch.nn as nn\n",
    "import torch.optim as optim\n",
    "import torch.utils.data\n",
    "import torch.nn.functional as F\n",
    "import torchvision\n",
    "from torchvision import transforms\n",
    "from PIL import Image, ImageFile\n",
    "\n",
    "ImageFile.LOAD_TRUNCATED_IMAGES=True"
   ]
  },
  {
   "cell_type": "code",
   "execution_count": 4,
   "metadata": {},
   "outputs": [],
   "source": [
    "def check_image(path):\n",
    "    try:\n",
    "        im = Image.open(path)\n",
    "        return True\n",
    "    except:\n",
    "        return False"
   ]
  },
  {
   "cell_type": "code",
   "execution_count": 5,
   "metadata": {},
   "outputs": [],
   "source": [
    "img_transforms = transforms.Compose([\n",
    "    transforms.Resize((64,64)),    \n",
    "    transforms.ToTensor(),\n",
    "    transforms.Normalize(mean=[0.485, 0.456, 0.406],\n",
    "                    std=[0.229, 0.224, 0.225] )\n",
    "    ])"
   ]
  },
  {
   "cell_type": "code",
   "execution_count": 6,
   "metadata": {},
   "outputs": [],
   "source": [
    "train_data_path = \"./train/\"\n",
    "train_data = torchvision.datasets.ImageFolder(root=train_data_path,transform=img_transforms, is_valid_file=check_image)\n",
    "\n",
    "val_data_path = \"./val/\"\n",
    "val_data = torchvision.datasets.ImageFolder(root=val_data_path,transform=img_transforms, is_valid_file=check_image)\n",
    "\n",
    "test_data_path = \"./test/\"\n",
    "test_data = torchvision.datasets.ImageFolder(root=test_data_path,transform=img_transforms, is_valid_file=check_image)\n",
    "\n",
    "batch_size=64\n",
    "\n",
    "train_data_loader = torch.utils.data.DataLoader(train_data, batch_size=batch_size)\n",
    "val_data_loader  = torch.utils.data.DataLoader(val_data, batch_size=batch_size) \n",
    "test_data_loader  = torch.utils.data.DataLoader(test_data, batch_size=batch_size)"
   ]
  },
  {
   "cell_type": "code",
   "execution_count": 7,
   "metadata": {},
   "outputs": [],
   "source": [
    "class SimpleNet(nn.Module):\n",
    "\n",
    "    def __init__(self):\n",
    "        super(SimpleNet, self).__init__()\n",
    "        self.fc1 = nn.Linear(12288, 84)\n",
    "        self.fc2 = nn.Linear(84, 50)\n",
    "        self.fc3 = nn.Linear(50,2)\n",
    "    \n",
    "    def forward(self, x):\n",
    "        x = x.view(-1, 12288)\n",
    "        x = F.relu(self.fc1(x))\n",
    "        x = F.relu(self.fc2(x))\n",
    "        x = self.fc3(x)\n",
    "        return x"
   ]
  },
  {
   "cell_type": "code",
   "execution_count": 8,
   "metadata": {},
   "outputs": [],
   "source": [
    "simplenet = SimpleNet()"
   ]
  },
  {
   "cell_type": "code",
   "execution_count": 9,
   "metadata": {},
   "outputs": [
    {
     "data": {
      "text/plain": [
       "<All keys matched successfully>"
      ]
     },
     "execution_count": 9,
     "metadata": {},
     "output_type": "execute_result"
    }
   ],
   "source": [
    "simplenet.load_state_dict(torch.load(\"./tmp/simplenet/simplenet.pth\"))"
   ]
  },
  {
   "cell_type": "code",
   "execution_count": 10,
   "metadata": {},
   "outputs": [],
   "source": [
    "optimizer = optim.Adam(simplenet.parameters(), lr=0.001)"
   ]
  },
  {
   "cell_type": "code",
   "execution_count": 11,
   "metadata": {},
   "outputs": [
    {
     "data": {
      "text/plain": [
       "False"
      ]
     },
     "execution_count": 11,
     "metadata": {},
     "output_type": "execute_result"
    }
   ],
   "source": [
    "check_image(val_data_path)"
   ]
  },
  {
   "cell_type": "code",
   "execution_count": 12,
   "metadata": {},
   "outputs": [
    {
     "data": {
      "text/plain": [
       "SimpleNet(\n",
       "  (fc1): Linear(in_features=12288, out_features=84, bias=True)\n",
       "  (fc2): Linear(in_features=84, out_features=50, bias=True)\n",
       "  (fc3): Linear(in_features=50, out_features=2, bias=True)\n",
       ")"
      ]
     },
     "execution_count": 12,
     "metadata": {},
     "output_type": "execute_result"
    }
   ],
   "source": [
    "if torch.cuda.is_available():\n",
    "    device = torch.device(\"cuda\") \n",
    "else:\n",
    "    device = torch.device(\"cpu\")\n",
    "\n",
    "simplenet.to(device)"
   ]
  },
  {
   "cell_type": "markdown",
   "metadata": {},
   "source": [
    "# Тренеровка сети"
   ]
  },
  {
   "cell_type": "code",
   "execution_count": 21,
   "metadata": {},
   "outputs": [],
   "source": [
    "def train(model, optimizer, loss_fn, train_loader, val_loader, epochs=20, device=\"cpu\"):\n",
    "    for epoch in range(1, epochs+1):\n",
    "        training_loss = 0.0\n",
    "        valid_loss = 0.0\n",
    "        model.train()\n",
    "        for batch in train_loader:\n",
    "            optimizer.zero_grad()\n",
    "            inputs, targets = batch\n",
    "            inputs = inputs.to(device)\n",
    "            targets = targets.to(device)\n",
    "            output = model(inputs)\n",
    "            loss = loss_fn(output, targets)\n",
    "            loss.backward()\n",
    "            optimizer.step()\n",
    "            training_loss += loss.data.item() * inputs.size(0)\n",
    "        training_loss /= len(train_loader.dataset)\n",
    "        \n",
    "        model.eval()\n",
    "        num_correct = 0 \n",
    "        num_examples = 0\n",
    "        for batch in val_loader:\n",
    "            inputs, targets = batch\n",
    "            inputs = inputs.to(device)\n",
    "            output = model(inputs)\n",
    "            targets = targets.to(device)\n",
    "            loss = loss_fn(output,targets) \n",
    "            valid_loss += loss.data.item() * inputs.size(0)\n",
    "            correct = torch.eq(torch.max(F.softmax(output, dim=1), dim=1)[1], targets)\n",
    "            num_correct += torch.sum(correct).item()\n",
    "            num_examples += correct.shape[0]\n",
    "        valid_loss /= len(val_loader.dataset)\n",
    "\n",
    "        print('Epoch: {}, Training Loss: {:.2f}, Validation Loss: {:.2f}, accuracy = {:.2f}'.format(epoch, training_loss,\n",
    "        valid_loss, num_correct / num_examples))"
   ]
  },
  {
   "cell_type": "code",
   "execution_count": 22,
   "metadata": {},
   "outputs": [
    {
     "name": "stdout",
     "output_type": "stream",
     "text": [
      "Epoch: 1, Training Loss: 1.83, Validation Loss: 5.49, accuracy = 0.35\n",
      "Epoch: 2, Training Loss: 2.74, Validation Loss: 0.68, accuracy = 0.73\n",
      "Epoch: 3, Training Loss: 0.68, Validation Loss: 0.69, accuracy = 0.63\n",
      "Epoch: 4, Training Loss: 0.60, Validation Loss: 0.61, accuracy = 0.75\n",
      "Epoch: 5, Training Loss: 0.43, Validation Loss: 0.63, accuracy = 0.68\n"
     ]
    }
   ],
   "source": [
    "train(simplenet, optimizer,torch.nn.CrossEntropyLoss(), train_data_loader,val_data_loader, epochs=5, device=device)"
   ]
  },
  {
   "cell_type": "code",
   "execution_count": 15,
   "metadata": {},
   "outputs": [
    {
     "name": "stdout",
     "output_type": "stream",
     "text": [
      "fish\n"
     ]
    }
   ],
   "source": [
    "labels = ['cat','fish']\n",
    "\n",
    "img = Image.open(\"./val/fish/SteveSilver2_1.jpg\") \n",
    "img = img_transforms(img).to(device)\n",
    "\n",
    "simplenet.eval()\n",
    "prediction = F.softmax(simplenet(img), dim=1)\n",
    "prediction = prediction.argmax()\n",
    "print(labels[prediction])"
   ]
  },
  {
   "cell_type": "code",
   "execution_count": 43,
   "metadata": {},
   "outputs": [],
   "source": [
    "torch.save(simplenet.state_dict(), os.path.join(\"./tmp/simplenet\", \"simplenet.pth\"))"
   ]
  },
  {
   "cell_type": "code",
   "execution_count": 82,
   "metadata": {},
   "outputs": [
    {
     "ename": "RuntimeError",
     "evalue": "CUDA error: an illegal memory access was encountered",
     "output_type": "error",
     "traceback": [
      "\u001b[1;31m---------------------------------------------------------------------------\u001b[0m",
      "\u001b[1;31mRuntimeError\u001b[0m                              Traceback (most recent call last)",
      "\u001b[1;32m<ipython-input-82-bb875a2b1dac>\u001b[0m in \u001b[0;36m<module>\u001b[1;34m\u001b[0m\n\u001b[0;32m      1\u001b[0m \u001b[1;31m#simplenet = torch.load(\"./tmp/simplenet/simplenet.pth\")\u001b[0m\u001b[1;33m\u001b[0m\u001b[1;33m\u001b[0m\u001b[1;33m\u001b[0m\u001b[0m\n\u001b[1;32m----> 2\u001b[1;33m \u001b[0msimplenet\u001b[0m\u001b[1;33m.\u001b[0m\u001b[0mload_state_dict\u001b[0m\u001b[1;33m(\u001b[0m\u001b[0mtorch\u001b[0m\u001b[1;33m.\u001b[0m\u001b[0mload\u001b[0m\u001b[1;33m(\u001b[0m\u001b[1;34m\"./tmp/simplenet/simplenet.pth\"\u001b[0m\u001b[1;33m)\u001b[0m\u001b[1;33m)\u001b[0m\u001b[1;33m\u001b[0m\u001b[1;33m\u001b[0m\u001b[0m\n\u001b[0m\u001b[0;32m      3\u001b[0m \u001b[1;31m#simplenet.eval()\u001b[0m\u001b[1;33m\u001b[0m\u001b[1;33m\u001b[0m\u001b[1;33m\u001b[0m\u001b[0m\n",
      "\u001b[1;32m~\\Anaconda3\\envs\\Python 3.7\\lib\\site-packages\\torch\\serialization.py\u001b[0m in \u001b[0;36mload\u001b[1;34m(f, map_location, pickle_module, **pickle_load_args)\u001b[0m\n\u001b[0;32m    582\u001b[0m                     \u001b[0mopened_file\u001b[0m\u001b[1;33m.\u001b[0m\u001b[0mseek\u001b[0m\u001b[1;33m(\u001b[0m\u001b[0morig_position\u001b[0m\u001b[1;33m)\u001b[0m\u001b[1;33m\u001b[0m\u001b[1;33m\u001b[0m\u001b[0m\n\u001b[0;32m    583\u001b[0m                     \u001b[1;32mreturn\u001b[0m \u001b[0mtorch\u001b[0m\u001b[1;33m.\u001b[0m\u001b[0mjit\u001b[0m\u001b[1;33m.\u001b[0m\u001b[0mload\u001b[0m\u001b[1;33m(\u001b[0m\u001b[0mopened_file\u001b[0m\u001b[1;33m)\u001b[0m\u001b[1;33m\u001b[0m\u001b[1;33m\u001b[0m\u001b[0m\n\u001b[1;32m--> 584\u001b[1;33m                 \u001b[1;32mreturn\u001b[0m \u001b[0m_load\u001b[0m\u001b[1;33m(\u001b[0m\u001b[0mopened_zipfile\u001b[0m\u001b[1;33m,\u001b[0m \u001b[0mmap_location\u001b[0m\u001b[1;33m,\u001b[0m \u001b[0mpickle_module\u001b[0m\u001b[1;33m,\u001b[0m \u001b[1;33m**\u001b[0m\u001b[0mpickle_load_args\u001b[0m\u001b[1;33m)\u001b[0m\u001b[1;33m\u001b[0m\u001b[1;33m\u001b[0m\u001b[0m\n\u001b[0m\u001b[0;32m    585\u001b[0m         \u001b[1;32mreturn\u001b[0m \u001b[0m_legacy_load\u001b[0m\u001b[1;33m(\u001b[0m\u001b[0mopened_file\u001b[0m\u001b[1;33m,\u001b[0m \u001b[0mmap_location\u001b[0m\u001b[1;33m,\u001b[0m \u001b[0mpickle_module\u001b[0m\u001b[1;33m,\u001b[0m \u001b[1;33m**\u001b[0m\u001b[0mpickle_load_args\u001b[0m\u001b[1;33m)\u001b[0m\u001b[1;33m\u001b[0m\u001b[1;33m\u001b[0m\u001b[0m\n\u001b[0;32m    586\u001b[0m \u001b[1;33m\u001b[0m\u001b[0m\n",
      "\u001b[1;32m~\\Anaconda3\\envs\\Python 3.7\\lib\\site-packages\\torch\\serialization.py\u001b[0m in \u001b[0;36m_load\u001b[1;34m(zip_file, map_location, pickle_module, **pickle_load_args)\u001b[0m\n\u001b[0;32m    840\u001b[0m     \u001b[0munpickler\u001b[0m \u001b[1;33m=\u001b[0m \u001b[0mpickle_module\u001b[0m\u001b[1;33m.\u001b[0m\u001b[0mUnpickler\u001b[0m\u001b[1;33m(\u001b[0m\u001b[0mdata_file\u001b[0m\u001b[1;33m,\u001b[0m \u001b[1;33m**\u001b[0m\u001b[0mpickle_load_args\u001b[0m\u001b[1;33m)\u001b[0m\u001b[1;33m\u001b[0m\u001b[1;33m\u001b[0m\u001b[0m\n\u001b[0;32m    841\u001b[0m     \u001b[0munpickler\u001b[0m\u001b[1;33m.\u001b[0m\u001b[0mpersistent_load\u001b[0m \u001b[1;33m=\u001b[0m \u001b[0mpersistent_load\u001b[0m\u001b[1;33m\u001b[0m\u001b[1;33m\u001b[0m\u001b[0m\n\u001b[1;32m--> 842\u001b[1;33m     \u001b[0mresult\u001b[0m \u001b[1;33m=\u001b[0m \u001b[0munpickler\u001b[0m\u001b[1;33m.\u001b[0m\u001b[0mload\u001b[0m\u001b[1;33m(\u001b[0m\u001b[1;33m)\u001b[0m\u001b[1;33m\u001b[0m\u001b[1;33m\u001b[0m\u001b[0m\n\u001b[0m\u001b[0;32m    843\u001b[0m \u001b[1;33m\u001b[0m\u001b[0m\n\u001b[0;32m    844\u001b[0m     \u001b[1;32mreturn\u001b[0m \u001b[0mresult\u001b[0m\u001b[1;33m\u001b[0m\u001b[1;33m\u001b[0m\u001b[0m\n",
      "\u001b[1;32m~\\Anaconda3\\envs\\Python 3.7\\lib\\site-packages\\torch\\serialization.py\u001b[0m in \u001b[0;36mpersistent_load\u001b[1;34m(saved_id)\u001b[0m\n\u001b[0;32m    832\u001b[0m         \u001b[0mdata_type\u001b[0m\u001b[1;33m,\u001b[0m \u001b[0mkey\u001b[0m\u001b[1;33m,\u001b[0m \u001b[0mlocation\u001b[0m\u001b[1;33m,\u001b[0m \u001b[0msize\u001b[0m \u001b[1;33m=\u001b[0m \u001b[0mdata\u001b[0m\u001b[1;33m\u001b[0m\u001b[1;33m\u001b[0m\u001b[0m\n\u001b[0;32m    833\u001b[0m         \u001b[1;32mif\u001b[0m \u001b[0mkey\u001b[0m \u001b[1;32mnot\u001b[0m \u001b[1;32min\u001b[0m \u001b[0mloaded_storages\u001b[0m\u001b[1;33m:\u001b[0m\u001b[1;33m\u001b[0m\u001b[1;33m\u001b[0m\u001b[0m\n\u001b[1;32m--> 834\u001b[1;33m             \u001b[0mload_tensor\u001b[0m\u001b[1;33m(\u001b[0m\u001b[0mdata_type\u001b[0m\u001b[1;33m,\u001b[0m \u001b[0msize\u001b[0m\u001b[1;33m,\u001b[0m \u001b[0mkey\u001b[0m\u001b[1;33m,\u001b[0m \u001b[0m_maybe_decode_ascii\u001b[0m\u001b[1;33m(\u001b[0m\u001b[0mlocation\u001b[0m\u001b[1;33m)\u001b[0m\u001b[1;33m)\u001b[0m\u001b[1;33m\u001b[0m\u001b[1;33m\u001b[0m\u001b[0m\n\u001b[0m\u001b[0;32m    835\u001b[0m         \u001b[0mstorage\u001b[0m \u001b[1;33m=\u001b[0m \u001b[0mloaded_storages\u001b[0m\u001b[1;33m[\u001b[0m\u001b[0mkey\u001b[0m\u001b[1;33m]\u001b[0m\u001b[1;33m\u001b[0m\u001b[1;33m\u001b[0m\u001b[0m\n\u001b[0;32m    836\u001b[0m         \u001b[1;32mreturn\u001b[0m \u001b[0mstorage\u001b[0m\u001b[1;33m\u001b[0m\u001b[1;33m\u001b[0m\u001b[0m\n",
      "\u001b[1;32m~\\Anaconda3\\envs\\Python 3.7\\lib\\site-packages\\torch\\serialization.py\u001b[0m in \u001b[0;36mload_tensor\u001b[1;34m(data_type, size, key, location)\u001b[0m\n\u001b[0;32m    821\u001b[0m \u001b[1;33m\u001b[0m\u001b[0m\n\u001b[0;32m    822\u001b[0m         \u001b[0mstorage\u001b[0m \u001b[1;33m=\u001b[0m \u001b[0mzip_file\u001b[0m\u001b[1;33m.\u001b[0m\u001b[0mget_storage_from_record\u001b[0m\u001b[1;33m(\u001b[0m\u001b[0mname\u001b[0m\u001b[1;33m,\u001b[0m \u001b[0msize\u001b[0m\u001b[1;33m,\u001b[0m \u001b[0mdtype\u001b[0m\u001b[1;33m)\u001b[0m\u001b[1;33m.\u001b[0m\u001b[0mstorage\u001b[0m\u001b[1;33m(\u001b[0m\u001b[1;33m)\u001b[0m\u001b[1;33m\u001b[0m\u001b[1;33m\u001b[0m\u001b[0m\n\u001b[1;32m--> 823\u001b[1;33m         \u001b[0mloaded_storages\u001b[0m\u001b[1;33m[\u001b[0m\u001b[0mkey\u001b[0m\u001b[1;33m]\u001b[0m \u001b[1;33m=\u001b[0m \u001b[0mrestore_location\u001b[0m\u001b[1;33m(\u001b[0m\u001b[0mstorage\u001b[0m\u001b[1;33m,\u001b[0m \u001b[0mlocation\u001b[0m\u001b[1;33m)\u001b[0m\u001b[1;33m\u001b[0m\u001b[1;33m\u001b[0m\u001b[0m\n\u001b[0m\u001b[0;32m    824\u001b[0m \u001b[1;33m\u001b[0m\u001b[0m\n\u001b[0;32m    825\u001b[0m     \u001b[1;32mdef\u001b[0m \u001b[0mpersistent_load\u001b[0m\u001b[1;33m(\u001b[0m\u001b[0msaved_id\u001b[0m\u001b[1;33m)\u001b[0m\u001b[1;33m:\u001b[0m\u001b[1;33m\u001b[0m\u001b[1;33m\u001b[0m\u001b[0m\n",
      "\u001b[1;32m~\\Anaconda3\\envs\\Python 3.7\\lib\\site-packages\\torch\\serialization.py\u001b[0m in \u001b[0;36mdefault_restore_location\u001b[1;34m(storage, location)\u001b[0m\n\u001b[0;32m    172\u001b[0m \u001b[1;32mdef\u001b[0m \u001b[0mdefault_restore_location\u001b[0m\u001b[1;33m(\u001b[0m\u001b[0mstorage\u001b[0m\u001b[1;33m,\u001b[0m \u001b[0mlocation\u001b[0m\u001b[1;33m)\u001b[0m\u001b[1;33m:\u001b[0m\u001b[1;33m\u001b[0m\u001b[1;33m\u001b[0m\u001b[0m\n\u001b[0;32m    173\u001b[0m     \u001b[1;32mfor\u001b[0m \u001b[0m_\u001b[0m\u001b[1;33m,\u001b[0m \u001b[0m_\u001b[0m\u001b[1;33m,\u001b[0m \u001b[0mfn\u001b[0m \u001b[1;32min\u001b[0m \u001b[0m_package_registry\u001b[0m\u001b[1;33m:\u001b[0m\u001b[1;33m\u001b[0m\u001b[1;33m\u001b[0m\u001b[0m\n\u001b[1;32m--> 174\u001b[1;33m         \u001b[0mresult\u001b[0m \u001b[1;33m=\u001b[0m \u001b[0mfn\u001b[0m\u001b[1;33m(\u001b[0m\u001b[0mstorage\u001b[0m\u001b[1;33m,\u001b[0m \u001b[0mlocation\u001b[0m\u001b[1;33m)\u001b[0m\u001b[1;33m\u001b[0m\u001b[1;33m\u001b[0m\u001b[0m\n\u001b[0m\u001b[0;32m    175\u001b[0m         \u001b[1;32mif\u001b[0m \u001b[0mresult\u001b[0m \u001b[1;32mis\u001b[0m \u001b[1;32mnot\u001b[0m \u001b[1;32mNone\u001b[0m\u001b[1;33m:\u001b[0m\u001b[1;33m\u001b[0m\u001b[1;33m\u001b[0m\u001b[0m\n\u001b[0;32m    176\u001b[0m             \u001b[1;32mreturn\u001b[0m \u001b[0mresult\u001b[0m\u001b[1;33m\u001b[0m\u001b[1;33m\u001b[0m\u001b[0m\n",
      "\u001b[1;32m~\\Anaconda3\\envs\\Python 3.7\\lib\\site-packages\\torch\\serialization.py\u001b[0m in \u001b[0;36m_cuda_deserialize\u001b[1;34m(obj, location)\u001b[0m\n\u001b[0;32m    154\u001b[0m                 \u001b[1;32mreturn\u001b[0m \u001b[0mstorage_type\u001b[0m\u001b[1;33m(\u001b[0m\u001b[0mobj\u001b[0m\u001b[1;33m.\u001b[0m\u001b[0msize\u001b[0m\u001b[1;33m(\u001b[0m\u001b[1;33m)\u001b[0m\u001b[1;33m)\u001b[0m\u001b[1;33m\u001b[0m\u001b[1;33m\u001b[0m\u001b[0m\n\u001b[0;32m    155\u001b[0m         \u001b[1;32melse\u001b[0m\u001b[1;33m:\u001b[0m\u001b[1;33m\u001b[0m\u001b[1;33m\u001b[0m\u001b[0m\n\u001b[1;32m--> 156\u001b[1;33m             \u001b[1;32mreturn\u001b[0m \u001b[0mobj\u001b[0m\u001b[1;33m.\u001b[0m\u001b[0mcuda\u001b[0m\u001b[1;33m(\u001b[0m\u001b[0mdevice\u001b[0m\u001b[1;33m)\u001b[0m\u001b[1;33m\u001b[0m\u001b[1;33m\u001b[0m\u001b[0m\n\u001b[0m\u001b[0;32m    157\u001b[0m \u001b[1;33m\u001b[0m\u001b[0m\n\u001b[0;32m    158\u001b[0m \u001b[1;33m\u001b[0m\u001b[0m\n",
      "\u001b[1;32m~\\Anaconda3\\envs\\Python 3.7\\lib\\site-packages\\torch\\_utils.py\u001b[0m in \u001b[0;36m_cuda\u001b[1;34m(self, device, non_blocking, **kwargs)\u001b[0m\n\u001b[0;32m     75\u001b[0m         \u001b[1;32melse\u001b[0m\u001b[1;33m:\u001b[0m\u001b[1;33m\u001b[0m\u001b[1;33m\u001b[0m\u001b[0m\n\u001b[0;32m     76\u001b[0m             \u001b[0mnew_type\u001b[0m \u001b[1;33m=\u001b[0m \u001b[0mgetattr\u001b[0m\u001b[1;33m(\u001b[0m\u001b[0mtorch\u001b[0m\u001b[1;33m.\u001b[0m\u001b[0mcuda\u001b[0m\u001b[1;33m,\u001b[0m \u001b[0mself\u001b[0m\u001b[1;33m.\u001b[0m\u001b[0m__class__\u001b[0m\u001b[1;33m.\u001b[0m\u001b[0m__name__\u001b[0m\u001b[1;33m)\u001b[0m\u001b[1;33m\u001b[0m\u001b[1;33m\u001b[0m\u001b[0m\n\u001b[1;32m---> 77\u001b[1;33m             \u001b[1;32mreturn\u001b[0m \u001b[0mnew_type\u001b[0m\u001b[1;33m(\u001b[0m\u001b[0mself\u001b[0m\u001b[1;33m.\u001b[0m\u001b[0msize\u001b[0m\u001b[1;33m(\u001b[0m\u001b[1;33m)\u001b[0m\u001b[1;33m)\u001b[0m\u001b[1;33m.\u001b[0m\u001b[0mcopy_\u001b[0m\u001b[1;33m(\u001b[0m\u001b[0mself\u001b[0m\u001b[1;33m,\u001b[0m \u001b[0mnon_blocking\u001b[0m\u001b[1;33m)\u001b[0m\u001b[1;33m\u001b[0m\u001b[1;33m\u001b[0m\u001b[0m\n\u001b[0m\u001b[0;32m     78\u001b[0m \u001b[1;33m\u001b[0m\u001b[0m\n\u001b[0;32m     79\u001b[0m \u001b[1;33m\u001b[0m\u001b[0m\n",
      "\u001b[1;32m~\\Anaconda3\\envs\\Python 3.7\\lib\\site-packages\\torch\\cuda\\__init__.py\u001b[0m in \u001b[0;36m_lazy_new\u001b[1;34m(cls, *args, **kwargs)\u001b[0m\n\u001b[0;32m    478\u001b[0m     \u001b[1;31m# We may need to call lazy init again if we are a forked child\u001b[0m\u001b[1;33m\u001b[0m\u001b[1;33m\u001b[0m\u001b[1;33m\u001b[0m\u001b[0m\n\u001b[0;32m    479\u001b[0m     \u001b[1;31m# del _CudaBase.__new__\u001b[0m\u001b[1;33m\u001b[0m\u001b[1;33m\u001b[0m\u001b[1;33m\u001b[0m\u001b[0m\n\u001b[1;32m--> 480\u001b[1;33m     \u001b[1;32mreturn\u001b[0m \u001b[0msuper\u001b[0m\u001b[1;33m(\u001b[0m\u001b[0m_CudaBase\u001b[0m\u001b[1;33m,\u001b[0m \u001b[0mcls\u001b[0m\u001b[1;33m)\u001b[0m\u001b[1;33m.\u001b[0m\u001b[0m__new__\u001b[0m\u001b[1;33m(\u001b[0m\u001b[0mcls\u001b[0m\u001b[1;33m,\u001b[0m \u001b[1;33m*\u001b[0m\u001b[0margs\u001b[0m\u001b[1;33m,\u001b[0m \u001b[1;33m**\u001b[0m\u001b[0mkwargs\u001b[0m\u001b[1;33m)\u001b[0m\u001b[1;33m\u001b[0m\u001b[1;33m\u001b[0m\u001b[0m\n\u001b[0m\u001b[0;32m    481\u001b[0m \u001b[1;33m\u001b[0m\u001b[0m\n\u001b[0;32m    482\u001b[0m \u001b[1;33m\u001b[0m\u001b[0m\n",
      "\u001b[1;31mRuntimeError\u001b[0m: CUDA error: an illegal memory access was encountered"
     ]
    }
   ],
   "source": [
    "#simplenet = torch.load(\"./tmp/simplenet/simplenet.pth\")\n",
    "simplenet.load_state_dict(torch.load(\"./tmp/simplenet/simplenet.pth\"))\n",
    "#simplenet.eval()"
   ]
  },
  {
   "cell_type": "code",
   "execution_count": null,
   "metadata": {},
   "outputs": [],
   "source": []
  }
 ],
 "metadata": {
  "kernelspec": {
   "display_name": "Python 3",
   "language": "python",
   "name": "python3"
  },
  "language_info": {
   "codemirror_mode": {
    "name": "ipython",
    "version": 3
   },
   "file_extension": ".py",
   "mimetype": "text/x-python",
   "name": "python",
   "nbconvert_exporter": "python",
   "pygments_lexer": "ipython3",
   "version": "3.8.5"
  }
 },
 "nbformat": 4,
 "nbformat_minor": 4
}
